{
 "cells": [
  {
   "cell_type": "markdown",
   "metadata": {},
   "source": [
    "# Skin Segmentation Training in Google Colab\n",
    "\n",
    "This notebook demonstrates how to use the modular skin segmentation code in Google Colab."
   ]
  },
  {
   "cell_type": "code",
   "execution_count": null,
   "metadata": {},
   "outputs": [],
   "source": [
    "# Mount Google Drive\n",
    "from google.colab import drive\n",
    "drive.mount('/content/drive')"
   ]
  },
  {
   "cell_type": "code",
   "execution_count": null,
   "metadata": {},
   "outputs": [],
   "source": [
    "# Clone your GitHub repository\n",
    "!git clone https://github.com/mjf789/spam_skinsegment.git\n",
    "%cd spam_skinsegment"
   ]
  },
  {
   "cell_type": "code",
   "execution_count": null,
   "metadata": {},
   "outputs": [],
   "source": [
    "# Install requirements\n",
    "!pip install -r requirements.txt"
   ]
  },
  {
   "cell_type": "code",
   "execution_count": null,
   "metadata": {},
   "outputs": [],
   "source": [
    "# Import the modules\n",
    "import sys\n",
    "sys.path.append('/content/spam_skinsegment')\n",
    "\n",
    "from src.config import get_colab_config\n",
    "from src.utils import setup_device\n",
    "from src.train import Trainer"
   ]
  },
  {
   "cell_type": "code",
   "execution_count": null,
   "metadata": {},
   "outputs": [],
   "source": [
    "# Setup configuration for Colab\n",
    "config = get_colab_config()\n",
    "\n",
    "# Optionally modify configuration\n",
    "config.training.num_epochs = 3  # Test with 3 epochs\n",
    "config.training.batch_size = 4  # Will be auto-adjusted based on GPU\n",
    "\n",
    "# Setup device\n",
    "device = setup_device()"
   ]
  },
  {
   "cell_type": "code",
   "execution_count": null,
   "metadata": {},
   "outputs": [],
   "source": [
    "# Initialize trainer\n",
    "trainer = Trainer(config, device)\n",
    "\n",
    "# Optionally resume from checkpoint\n",
    "# checkpoint_path = \"/content/drive/MyDrive/Brand Analysis Study/Models/latest_checkpoint.pth\"\n",
    "# trainer.resume_from_checkpoint(checkpoint_path)"
   ]
  },
  {
   "cell_type": "code",
   "execution_count": null,
   "metadata": {},
   "outputs": [],
   "source": [
    "# Start training\n",
    "trainer.train()"
   ]
  },
  {
   "cell_type": "code",
   "execution_count": null,
   "metadata": {},
   "outputs": [],
   "source": [
    "# Evaluate on hand-only masks if available\n",
    "if 'val_hand_only' in trainer.loaders:\n",
    "    from src.evaluate import eval_iou_per_image\n",
    "    \n",
    "    # Load best model\n",
    "    import torch\n",
    "    best_checkpoint = torch.load(\n",
    "        f\"{config.checkpoint_dir}/best_model.pth\",\n",
    "        map_location=device\n",
    "    )\n",
    "    trainer.model.load_state_dict(best_checkpoint['model_state_dict'])\n",
    "    \n",
    "    # Evaluate\n",
    "    hand_only_iou = eval_iou_per_image(\n",
    "        trainer.model, \n",
    "        trainer.loaders['val_hand_only'], \n",
    "        device\n",
    "    )\n",
    "    print(f\"\\nFinal hand-only masks validation mean-IoU: {hand_only_iou:.4f}\")\n",
    "    print(f\"Best hand IoU during training: {best_checkpoint['best_hand_iou']:.4f}\")"
   ]
  }
 ],
 "metadata": {
  "accelerator": "GPU",
  "colab": {
   "gpuType": "A100",
   "machine_shape": "hm",
   "provenance": []
  },
  "kernelspec": {
   "display_name": "Python 3",
   "name": "python3"
  }
 },
 "nbformat": 4,
 "nbformat_minor": 0
}
